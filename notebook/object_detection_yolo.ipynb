{
 "cells": [
  {
   "cell_type": "code",
   "execution_count": 1,
   "metadata": {},
   "outputs": [],
   "source": [
    "import os\n",
    "import cv2\n",
    "import torch\n",
    "import logging\n",
    "import pandas as pd\n",
    "import psycopg2\n"
   ]
  },
  {
   "cell_type": "code",
   "execution_count": 2,
   "metadata": {},
   "outputs": [],
   "source": [
    "# Logging configuration\n",
    "logging.basicConfig(\n",
    "    filename='object_detection.log',\n",
    "    level=logging.INFO,\n",
    "    format='%(asctime)s - %(levelname)s - %(message)s'\n",
    ")"
   ]
  },
  {
   "cell_type": "code",
   "execution_count": 3,
   "metadata": {},
   "outputs": [],
   "source": [
    "# Paths\n",
    "IMAGE_DIR = \"../data//scraped_images\"  # Directory containing images\n",
    "DETECTION_RESULTS = \"../data/detection_results.csv\"  # Output CSV file\n",
    "\n",
    "# Database configuration\n",
    "DB_CONFIG = {\n",
    "    'dbname': 'telegram_data',\n",
    "    'user': 'postgres',\n",
    "    'password': '12345',  \n",
    "    'host': 'localhost',\n",
    "    'port': 5432\n",
    "}"
   ]
  },
  {
   "cell_type": "code",
   "execution_count": 4,
   "metadata": {},
   "outputs": [],
   "source": [
    "#Load YOLOv5 model\n",
    "def load_yolo_model():\n",
    "    \"\"\"Load the pre-trained YOLOv5 model.\"\"\"\n",
    "    try:\n",
    "        model = torch.hub.load('ultralytics/yolov5', 'yolov5s', pretrained=True)\n",
    "        logging.info(\"YOLO model loaded successfully.\")\n",
    "        print(\"YOLO model loaded successfully.\")\n",
    "        return model\n",
    "    except Exception as e:\n",
    "        logging.error(f\"Error loading YOLO model: {e}\")\n",
    "        raise e"
   ]
  },
  {
   "cell_type": "code",
   "execution_count": 5,
   "metadata": {},
   "outputs": [],
   "source": [
    "\n",
    "# Perform Object Detection\n",
    "def detect_objects(model, image_dir, output_csv):\n",
    "    \"\"\"Detect objects in images and save results to a CSV file.\"\"\"\n",
    "    try:\n",
    "        # Get list of image files\n",
    "        images = [os.path.join(image_dir, img) for img in os.listdir(image_dir) if img.endswith(('.jpg', '.png'))]\n",
    "        if not images:\n",
    "            print(\"No images found for detection.\")\n",
    "            return\n",
    "\n",
    "        all_results = []\n",
    "        for image_path in images:\n",
    "            # Perform detection\n",
    "            results = model(image_path)\n",
    "            detections = results.pandas().xyxy[0]  # Get detection data as DataFrame\n",
    "            \n",
    "            if not detections.empty:\n",
    "                detections['image_path'] = image_path\n",
    "                all_results.append(detections)\n",
    "\n",
    "        # Save results to CSV\n",
    "        if all_results:\n",
    "            results_df = pd.concat(all_results, ignore_index=True)\n",
    "            results_df.to_csv(output_csv, index=False)\n",
    "            logging.info(f\"Detection results saved to {output_csv}\")\n",
    "            print(f\"Detection results saved to {output_csv}\")\n",
    "        else:\n",
    "            print(\"No detections found in any image.\")\n",
    "    except Exception as e:\n",
    "        logging.error(f\"Error during detection: {e}\")\n",
    "        print(f\"Error during detection: {e}\")"
   ]
  },
  {
   "cell_type": "code",
   "execution_count": 6,
   "metadata": {},
   "outputs": [],
   "source": [
    "\n",
    "\n",
    "# Store Detection Results in Database\n",
    "def store_results_to_db(csv_file):\n",
    "    \"\"\"Store detection results from CSV into PostgreSQL database.\"\"\"\n",
    "    try:\n",
    "        conn = psycopg2.connect(**DB_CONFIG)\n",
    "        cursor = conn.cursor()\n",
    "\n",
    "        # Create detection_results table if not exists\n",
    "        cursor.execute(\"\"\"\n",
    "        CREATE TABLE IF NOT EXISTS detection_results (\n",
    "            id SERIAL PRIMARY KEY,\n",
    "            image_path TEXT,\n",
    "            x_min FLOAT,\n",
    "            y_min FLOAT,\n",
    "            x_max FLOAT,\n",
    "            y_max FLOAT,\n",
    "            confidence FLOAT,\n",
    "            class_id INTEGER,\n",
    "            name TEXT\n",
    "        )\n",
    "        \"\"\")\n",
    "        conn.commit()\n",
    "\n",
    "        # Load data from CSV\n",
    "        results_df = pd.read_csv(csv_file)\n",
    "        for _, row in results_df.iterrows():\n",
    "            cursor.execute(\"\"\"\n",
    "                INSERT INTO detection_results (image_path, x_min, y_min, x_max, y_max, confidence, class_id, name)\n",
    "                VALUES (%s, %s, %s, %s, %s, %s, %s, %s)\n",
    "            \"\"\", (\n",
    "                row['image_path'], row['xmin'], row['ymin'], row['xmax'], row['ymax'],\n",
    "                row['confidence'], row['class'], row['name']\n",
    "            ))\n",
    "\n",
    "        conn.commit()\n",
    "        conn.close()\n",
    "        logging.info(\"Detection results stored in database.\")\n",
    "        print(\"Detection results stored in database.\")\n",
    "    except Exception as e:\n",
    "        logging.error(f\"Error storing results in database: {e}\")\n",
    "        print(f\"Error storing results in database: {e}\")\n"
   ]
  },
  {
   "cell_type": "code",
   "execution_count": 7,
   "metadata": {},
   "outputs": [
    {
     "name": "stdout",
     "output_type": "stream",
     "text": [
      "Detection results stored in database.\n"
     ]
    }
   ],
   "source": [
    "\n",
    "# Main function\n",
    "if __name__ == \"__main__\":\n",
    "    # Load YOLO model\n",
    "    # model = load_yolo_model()\n",
    "\n",
    "    # # Perform object detection and save results to CSV\n",
    "    # detect_objects(model, IMAGE_DIR, DETECTION_RESULTS)\n",
    "\n",
    "    # Store detection results in database\n",
    "    store_results_to_db(DETECTION_RESULTS)\n"
   ]
  },
  {
   "cell_type": "code",
   "execution_count": null,
   "metadata": {},
   "outputs": [],
   "source": []
  }
 ],
 "metadata": {
  "kernelspec": {
   "display_name": "env",
   "language": "python",
   "name": "python3"
  },
  "language_info": {
   "codemirror_mode": {
    "name": "ipython",
    "version": 3
   },
   "file_extension": ".py",
   "mimetype": "text/x-python",
   "name": "python",
   "nbconvert_exporter": "python",
   "pygments_lexer": "ipython3",
   "version": "3.10.11"
  }
 },
 "nbformat": 4,
 "nbformat_minor": 2
}
